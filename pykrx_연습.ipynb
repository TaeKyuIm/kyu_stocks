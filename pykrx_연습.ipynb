{
 "cells": [
  {
   "cell_type": "code",
   "execution_count": 3,
   "metadata": {
    "tags": []
   },
   "outputs": [],
   "source": [
    "from pykrx import stock"
   ]
  },
  {
   "cell_type": "code",
   "execution_count": 4,
   "metadata": {
    "collapsed": false,
    "jupyter": {
     "outputs_hidden": false
    }
   },
   "outputs": [
    {
     "name": "stdout",
     "output_type": "stream",
     "text": [
      "1634\n"
     ]
    }
   ],
   "source": [
    "market = \"KOSDAQ\"\n",
    "tickers = stock.get_market_ticker_list(market=market)\n",
    "print(len(tickers))"
   ]
  },
  {
   "cell_type": "code",
   "execution_count": 5,
   "metadata": {},
   "outputs": [
    {
     "name": "stdout",
     "output_type": "stream",
     "text": [
      "054620\n"
     ]
    }
   ],
   "source": [
    "ticker = tickers[1]\n",
    "print(ticker)"
   ]
  },
  {
   "attachments": {},
   "cell_type": "markdown",
   "metadata": {},
   "source": [
    "## OHLCV 조회"
   ]
  },
  {
   "cell_type": "code",
   "execution_count": 31,
   "metadata": {},
   "outputs": [
    {
     "data": {
      "text/html": [
       "<div>\n",
       "<style scoped>\n",
       "    .dataframe tbody tr th:only-of-type {\n",
       "        vertical-align: middle;\n",
       "    }\n",
       "\n",
       "    .dataframe tbody tr th {\n",
       "        vertical-align: top;\n",
       "    }\n",
       "\n",
       "    .dataframe thead th {\n",
       "        text-align: right;\n",
       "    }\n",
       "</style>\n",
       "<table border=\"1\" class=\"dataframe\">\n",
       "  <thead>\n",
       "    <tr style=\"text-align: right;\">\n",
       "      <th></th>\n",
       "      <th>시가</th>\n",
       "      <th>고가</th>\n",
       "      <th>저가</th>\n",
       "      <th>종가</th>\n",
       "      <th>거래량</th>\n",
       "    </tr>\n",
       "    <tr>\n",
       "      <th>날짜</th>\n",
       "      <th></th>\n",
       "      <th></th>\n",
       "      <th></th>\n",
       "      <th></th>\n",
       "      <th></th>\n",
       "    </tr>\n",
       "  </thead>\n",
       "  <tbody>\n",
       "    <tr>\n",
       "      <th>2020-03-02</th>\n",
       "      <td>9610</td>\n",
       "      <td>9980</td>\n",
       "      <td>9430</td>\n",
       "      <td>9890</td>\n",
       "      <td>370257</td>\n",
       "    </tr>\n",
       "    <tr>\n",
       "      <th>2020-03-03</th>\n",
       "      <td>10250</td>\n",
       "      <td>10650</td>\n",
       "      <td>9980</td>\n",
       "      <td>10200</td>\n",
       "      <td>578524</td>\n",
       "    </tr>\n",
       "    <tr>\n",
       "      <th>2020-03-04</th>\n",
       "      <td>10000</td>\n",
       "      <td>11300</td>\n",
       "      <td>9970</td>\n",
       "      <td>11150</td>\n",
       "      <td>824167</td>\n",
       "    </tr>\n",
       "    <tr>\n",
       "      <th>2020-03-05</th>\n",
       "      <td>11200</td>\n",
       "      <td>11300</td>\n",
       "      <td>10700</td>\n",
       "      <td>10900</td>\n",
       "      <td>346499</td>\n",
       "    </tr>\n",
       "    <tr>\n",
       "      <th>2020-03-06</th>\n",
       "      <td>10600</td>\n",
       "      <td>10800</td>\n",
       "      <td>10350</td>\n",
       "      <td>10650</td>\n",
       "      <td>396522</td>\n",
       "    </tr>\n",
       "  </tbody>\n",
       "</table>\n",
       "</div>"
      ],
      "text/plain": [
       "               시가     고가     저가     종가     거래량\n",
       "날짜                                            \n",
       "2020-03-02   9610   9980   9430   9890  370257\n",
       "2020-03-03  10250  10650   9980  10200  578524\n",
       "2020-03-04  10000  11300   9970  11150  824167\n",
       "2020-03-05  11200  11300  10700  10900  346499\n",
       "2020-03-06  10600  10800  10350  10650  396522"
      ]
     },
     "execution_count": 31,
     "metadata": {},
     "output_type": "execute_result"
    }
   ],
   "source": [
    "df = stock.get_market_ohlcv(\"20200301\", \"20230401\", ticker, adjusted=True)\n",
    "df.head()"
   ]
  },
  {
   "cell_type": "code",
   "execution_count": 32,
   "metadata": {},
   "outputs": [
    {
     "data": {
      "text/html": [
       "<div>\n",
       "<style scoped>\n",
       "    .dataframe tbody tr th:only-of-type {\n",
       "        vertical-align: middle;\n",
       "    }\n",
       "\n",
       "    .dataframe tbody tr th {\n",
       "        vertical-align: top;\n",
       "    }\n",
       "\n",
       "    .dataframe thead th {\n",
       "        text-align: right;\n",
       "    }\n",
       "</style>\n",
       "<table border=\"1\" class=\"dataframe\">\n",
       "  <thead>\n",
       "    <tr style=\"text-align: right;\">\n",
       "      <th></th>\n",
       "      <th>날짜</th>\n",
       "      <th>시가</th>\n",
       "      <th>고가</th>\n",
       "      <th>저가</th>\n",
       "      <th>종가</th>\n",
       "      <th>거래량</th>\n",
       "    </tr>\n",
       "  </thead>\n",
       "  <tbody>\n",
       "    <tr>\n",
       "      <th>0</th>\n",
       "      <td>2020-03-02</td>\n",
       "      <td>9610</td>\n",
       "      <td>9980</td>\n",
       "      <td>9430</td>\n",
       "      <td>9890</td>\n",
       "      <td>370257</td>\n",
       "    </tr>\n",
       "    <tr>\n",
       "      <th>1</th>\n",
       "      <td>2020-03-03</td>\n",
       "      <td>10250</td>\n",
       "      <td>10650</td>\n",
       "      <td>9980</td>\n",
       "      <td>10200</td>\n",
       "      <td>578524</td>\n",
       "    </tr>\n",
       "    <tr>\n",
       "      <th>2</th>\n",
       "      <td>2020-03-04</td>\n",
       "      <td>10000</td>\n",
       "      <td>11300</td>\n",
       "      <td>9970</td>\n",
       "      <td>11150</td>\n",
       "      <td>824167</td>\n",
       "    </tr>\n",
       "    <tr>\n",
       "      <th>3</th>\n",
       "      <td>2020-03-05</td>\n",
       "      <td>11200</td>\n",
       "      <td>11300</td>\n",
       "      <td>10700</td>\n",
       "      <td>10900</td>\n",
       "      <td>346499</td>\n",
       "    </tr>\n",
       "    <tr>\n",
       "      <th>4</th>\n",
       "      <td>2020-03-06</td>\n",
       "      <td>10600</td>\n",
       "      <td>10800</td>\n",
       "      <td>10350</td>\n",
       "      <td>10650</td>\n",
       "      <td>396522</td>\n",
       "    </tr>\n",
       "  </tbody>\n",
       "</table>\n",
       "</div>"
      ],
      "text/plain": [
       "          날짜     시가     고가     저가     종가     거래량\n",
       "0 2020-03-02   9610   9980   9430   9890  370257\n",
       "1 2020-03-03  10250  10650   9980  10200  578524\n",
       "2 2020-03-04  10000  11300   9970  11150  824167\n",
       "3 2020-03-05  11200  11300  10700  10900  346499\n",
       "4 2020-03-06  10600  10800  10350  10650  396522"
      ]
     },
     "execution_count": 32,
     "metadata": {},
     "output_type": "execute_result"
    }
   ],
   "source": [
    "df.reset_index(inplace=True)\n",
    "df.head()"
   ]
  },
  {
   "attachments": {},
   "cell_type": "markdown",
   "metadata": {},
   "source": [
    "## 종목 기본정보 조회"
   ]
  },
  {
   "cell_type": "code",
   "execution_count": 24,
   "metadata": {},
   "outputs": [
    {
     "name": "stdout",
     "output_type": "stream",
     "text": [
      "              BPS  PER   PBR  EPS  DIV  DPS\n",
      "날짜                                         \n",
      "2021-01-04  10530  0.0  0.76    0  0.0    0\n",
      "2021-01-05  10530  0.0  0.75    0  0.0    0\n",
      "2021-01-06  10530  0.0  0.73    0  0.0    0\n",
      "2021-01-07  10530  0.0  0.73    0  0.0    0\n",
      "2021-01-08  10530  0.0  0.71    0  0.0    0\n"
     ]
    }
   ],
   "source": [
    "df2 = stock.get_market_fundamental(\"20210104\", \"20210108\", ticker)\n",
    "print(df2.head())"
   ]
  },
  {
   "attachments": {},
   "cell_type": "markdown",
   "metadata": {},
   "source": [
    "## 52주 최고가 조회"
   ]
  },
  {
   "cell_type": "code",
   "execution_count": 25,
   "metadata": {},
   "outputs": [
    {
     "data": {
      "text/html": [
       "<div>\n",
       "<style scoped>\n",
       "    .dataframe tbody tr th:only-of-type {\n",
       "        vertical-align: middle;\n",
       "    }\n",
       "\n",
       "    .dataframe tbody tr th {\n",
       "        vertical-align: top;\n",
       "    }\n",
       "\n",
       "    .dataframe thead th {\n",
       "        text-align: right;\n",
       "    }\n",
       "</style>\n",
       "<table border=\"1\" class=\"dataframe\">\n",
       "  <thead>\n",
       "    <tr style=\"text-align: right;\">\n",
       "      <th></th>\n",
       "      <th>시가</th>\n",
       "      <th>고가</th>\n",
       "      <th>저가</th>\n",
       "      <th>종가</th>\n",
       "      <th>거래량</th>\n",
       "      <th>52_week_high</th>\n",
       "    </tr>\n",
       "    <tr>\n",
       "      <th>날짜</th>\n",
       "      <th></th>\n",
       "      <th></th>\n",
       "      <th></th>\n",
       "      <th></th>\n",
       "      <th></th>\n",
       "      <th></th>\n",
       "    </tr>\n",
       "  </thead>\n",
       "  <tbody>\n",
       "    <tr>\n",
       "      <th>2020-03-02</th>\n",
       "      <td>9610</td>\n",
       "      <td>9980</td>\n",
       "      <td>9430</td>\n",
       "      <td>9890</td>\n",
       "      <td>370257</td>\n",
       "      <td>9980.0</td>\n",
       "    </tr>\n",
       "    <tr>\n",
       "      <th>2020-03-03</th>\n",
       "      <td>10250</td>\n",
       "      <td>10650</td>\n",
       "      <td>9980</td>\n",
       "      <td>10200</td>\n",
       "      <td>578524</td>\n",
       "      <td>10650.0</td>\n",
       "    </tr>\n",
       "    <tr>\n",
       "      <th>2020-03-04</th>\n",
       "      <td>10000</td>\n",
       "      <td>11300</td>\n",
       "      <td>9970</td>\n",
       "      <td>11150</td>\n",
       "      <td>824167</td>\n",
       "      <td>11300.0</td>\n",
       "    </tr>\n",
       "    <tr>\n",
       "      <th>2020-03-05</th>\n",
       "      <td>11200</td>\n",
       "      <td>11300</td>\n",
       "      <td>10700</td>\n",
       "      <td>10900</td>\n",
       "      <td>346499</td>\n",
       "      <td>11300.0</td>\n",
       "    </tr>\n",
       "    <tr>\n",
       "      <th>2020-03-06</th>\n",
       "      <td>10600</td>\n",
       "      <td>10800</td>\n",
       "      <td>10350</td>\n",
       "      <td>10650</td>\n",
       "      <td>396522</td>\n",
       "      <td>11300.0</td>\n",
       "    </tr>\n",
       "  </tbody>\n",
       "</table>\n",
       "</div>"
      ],
      "text/plain": [
       "               시가     고가     저가     종가     거래량  52_week_high\n",
       "날짜                                                          \n",
       "2020-03-02   9610   9980   9430   9890  370257        9980.0\n",
       "2020-03-03  10250  10650   9980  10200  578524       10650.0\n",
       "2020-03-04  10000  11300   9970  11150  824167       11300.0\n",
       "2020-03-05  11200  11300  10700  10900  346499       11300.0\n",
       "2020-03-06  10600  10800  10350  10650  396522       11300.0"
      ]
     },
     "execution_count": 25,
     "metadata": {},
     "output_type": "execute_result"
    }
   ],
   "source": [
    "df['52_week_high'] = df['고가'].rolling(window='365D').max()\n",
    "df.head()"
   ]
  },
  {
   "cell_type": "code",
   "execution_count": 26,
   "metadata": {},
   "outputs": [
    {
     "data": {
      "text/plain": [
       "날짜\n",
       "2020-03-02    9430.0\n",
       "2020-03-03    9430.0\n",
       "2020-03-04    9430.0\n",
       "2020-03-05    9430.0\n",
       "2020-03-06    9430.0\n",
       "               ...  \n",
       "2023-03-27    7500.0\n",
       "2023-03-28    7500.0\n",
       "2023-03-29    7500.0\n",
       "2023-03-30    7500.0\n",
       "2023-03-31    7500.0\n",
       "Name: 52_week_low, Length: 764, dtype: float64"
      ]
     },
     "execution_count": 26,
     "metadata": {},
     "output_type": "execute_result"
    }
   ],
   "source": [
    "df['52_week_low'] = df['저가'].rolling(window='365D').min()\n",
    "df['52_week_low']"
   ]
  },
  {
   "cell_type": "code",
   "execution_count": 28,
   "metadata": {},
   "outputs": [],
   "source": [
    "a = df[['52_week_high', '52_week_low']].copy()"
   ]
  },
  {
   "cell_type": "code",
   "execution_count": 30,
   "metadata": {},
   "outputs": [
    {
     "data": {
      "text/html": [
       "<div>\n",
       "<style scoped>\n",
       "    .dataframe tbody tr th:only-of-type {\n",
       "        vertical-align: middle;\n",
       "    }\n",
       "\n",
       "    .dataframe tbody tr th {\n",
       "        vertical-align: top;\n",
       "    }\n",
       "\n",
       "    .dataframe thead th {\n",
       "        text-align: right;\n",
       "    }\n",
       "</style>\n",
       "<table border=\"1\" class=\"dataframe\">\n",
       "  <thead>\n",
       "    <tr style=\"text-align: right;\">\n",
       "      <th></th>\n",
       "      <th>날짜</th>\n",
       "      <th>52_week_high</th>\n",
       "      <th>52_week_low</th>\n",
       "    </tr>\n",
       "  </thead>\n",
       "  <tbody>\n",
       "    <tr>\n",
       "      <th>0</th>\n",
       "      <td>2020-03-02</td>\n",
       "      <td>9980.0</td>\n",
       "      <td>9430.0</td>\n",
       "    </tr>\n",
       "    <tr>\n",
       "      <th>1</th>\n",
       "      <td>2020-03-03</td>\n",
       "      <td>10650.0</td>\n",
       "      <td>9430.0</td>\n",
       "    </tr>\n",
       "    <tr>\n",
       "      <th>2</th>\n",
       "      <td>2020-03-04</td>\n",
       "      <td>11300.0</td>\n",
       "      <td>9430.0</td>\n",
       "    </tr>\n",
       "    <tr>\n",
       "      <th>3</th>\n",
       "      <td>2020-03-05</td>\n",
       "      <td>11300.0</td>\n",
       "      <td>9430.0</td>\n",
       "    </tr>\n",
       "    <tr>\n",
       "      <th>4</th>\n",
       "      <td>2020-03-06</td>\n",
       "      <td>11300.0</td>\n",
       "      <td>9430.0</td>\n",
       "    </tr>\n",
       "    <tr>\n",
       "      <th>...</th>\n",
       "      <td>...</td>\n",
       "      <td>...</td>\n",
       "      <td>...</td>\n",
       "    </tr>\n",
       "    <tr>\n",
       "      <th>759</th>\n",
       "      <td>2023-03-27</td>\n",
       "      <td>16900.0</td>\n",
       "      <td>7500.0</td>\n",
       "    </tr>\n",
       "    <tr>\n",
       "      <th>760</th>\n",
       "      <td>2023-03-28</td>\n",
       "      <td>16900.0</td>\n",
       "      <td>7500.0</td>\n",
       "    </tr>\n",
       "    <tr>\n",
       "      <th>761</th>\n",
       "      <td>2023-03-29</td>\n",
       "      <td>16900.0</td>\n",
       "      <td>7500.0</td>\n",
       "    </tr>\n",
       "    <tr>\n",
       "      <th>762</th>\n",
       "      <td>2023-03-30</td>\n",
       "      <td>16900.0</td>\n",
       "      <td>7500.0</td>\n",
       "    </tr>\n",
       "    <tr>\n",
       "      <th>763</th>\n",
       "      <td>2023-03-31</td>\n",
       "      <td>16900.0</td>\n",
       "      <td>7500.0</td>\n",
       "    </tr>\n",
       "  </tbody>\n",
       "</table>\n",
       "<p>764 rows × 3 columns</p>\n",
       "</div>"
      ],
      "text/plain": [
       "            날짜  52_week_high  52_week_low\n",
       "0   2020-03-02        9980.0       9430.0\n",
       "1   2020-03-03       10650.0       9430.0\n",
       "2   2020-03-04       11300.0       9430.0\n",
       "3   2020-03-05       11300.0       9430.0\n",
       "4   2020-03-06       11300.0       9430.0\n",
       "..         ...           ...          ...\n",
       "759 2023-03-27       16900.0       7500.0\n",
       "760 2023-03-28       16900.0       7500.0\n",
       "761 2023-03-29       16900.0       7500.0\n",
       "762 2023-03-30       16900.0       7500.0\n",
       "763 2023-03-31       16900.0       7500.0\n",
       "\n",
       "[764 rows x 3 columns]"
      ]
     },
     "execution_count": 30,
     "metadata": {},
     "output_type": "execute_result"
    }
   ],
   "source": [
    "a.reset_index(inplace=True)\n",
    "a"
   ]
  },
  {
   "cell_type": "code",
   "execution_count": 11,
   "metadata": {},
   "outputs": [
    {
     "data": {
      "text/plain": [
       "날짜\n",
       "2020-03-02     9980.0\n",
       "2020-03-03    10650.0\n",
       "2020-03-04    11300.0\n",
       "2020-03-05    11300.0\n",
       "2021-04-15    11050.0\n",
       "Name: 52_week_high, dtype: float64"
      ]
     },
     "execution_count": 11,
     "metadata": {},
     "output_type": "execute_result"
    }
   ],
   "source": [
    "high_history = df[df['고가'] == df['52_week_high']]['52_week_high']\n",
    "high_history.head()"
   ]
  },
  {
   "cell_type": "code",
   "execution_count": 13,
   "metadata": {},
   "outputs": [
    {
     "data": {
      "text/plain": [
       "날짜\n",
       "2020-03-02    9430.0\n",
       "2020-03-09    9170.0\n",
       "2020-03-10    8780.0\n",
       "2020-03-11    8680.0\n",
       "2020-03-12    7120.0\n",
       "Name: 52_week_low, dtype: float64"
      ]
     },
     "execution_count": 13,
     "metadata": {},
     "output_type": "execute_result"
    }
   ],
   "source": [
    "low_history = df[df['저가'] == df['52_week_low']]['52_week_low'].head()\n",
    "low_history"
   ]
  },
  {
   "attachments": {},
   "cell_type": "markdown",
   "metadata": {},
   "source": [
    "## 5, 10, 20, 60, 120 지수 이평 그리기"
   ]
  },
  {
   "cell_type": "code",
   "execution_count": 15,
   "metadata": {},
   "outputs": [
    {
     "data": {
      "image/png": "[encoded data removed]",
      "text/plain": [
       "<Figure size 1008x504 with 1 Axes>"
      ]
     },
     "metadata": {
      "needs_background": "light"
     },
     "output_type": "display_data"
    }
   ],
   "source": [
    "import matplotlib.pyplot as plt\n",
    "\n",
    "df['EMA_5'] = df['종가'].ewm(span=5).mean()\n",
    "df['EMA_10'] = df['종가'].ewm(span=10).mean()\n",
    "df['EMA_20'] = df['종가'].ewm(span=20).mean()\n",
    "df['EMA_60'] = df['종가'].ewm(span=60).mean()\n",
    "df['EMA_120'] = df['종가'].ewm(span=120).mean()\n",
    "\n",
    "plt.figure(figsize=(14, 7))\n",
    "plt.plot(df.index, df['종가'], label='Price', color='black', alpha=0.4)\n",
    "plt.plot(df.index, df['EMA_5'], label='EMA 5', color='blue', alpha=0.7)\n",
    "plt.plot(df.index, df['EMA_10'], label='EMA 10', color='green', alpha=0.7)\n",
    "plt.plot(df.index, df['EMA_20'], label='EMA 20', color='red', alpha=0.7)\n",
    "plt.plot(df.index, df['EMA_60'], label='EMA 60', color='purple', alpha=0.7)\n",
    "plt.plot(df.index, df['EMA_120'], label='EMA 120', color='orange', alpha=0.7)\n",
    "\n",
    "plt.xlabel('Date')\n",
    "plt.ylabel('Price')\n",
    "plt.title('Exponential Moving Averages')\n",
    "plt.legend()\n",
    "plt.grid()\n",
    "\n",
    "plt.show()"
   ]
  },
  {
   "attachments": {},
   "cell_type": "markdown",
   "metadata": {},
   "source": [
    "## 최근 수익률 높은 종목들 조회"
   ]
  },
  {
   "cell_type": "code",
   "execution_count": 6,
   "metadata": {},
   "outputs": [
    {
     "name": "stderr",
     "output_type": "stream",
     "text": [
      "/opt/homebrew/Caskroom/miniforge/base/envs/stocks/lib/python3.9/site-packages/pykrx/stock/api.py:630: FutureWarning: The frame.append method is deprecated and will be removed from pandas in a future version. Use pandas.concat instead.\n",
      "  df_0 = df_0.append(df_1[cond])\n"
     ]
    },
    {
     "data": {
      "text/html": [
       "<div>\n",
       "<style scoped>\n",
       "    .dataframe tbody tr th:only-of-type {\n",
       "        vertical-align: middle;\n",
       "    }\n",
       "\n",
       "    .dataframe tbody tr th {\n",
       "        vertical-align: top;\n",
       "    }\n",
       "\n",
       "    .dataframe thead th {\n",
       "        text-align: right;\n",
       "    }\n",
       "</style>\n",
       "<table border=\"1\" class=\"dataframe\">\n",
       "  <thead>\n",
       "    <tr style=\"text-align: right;\">\n",
       "      <th></th>\n",
       "      <th>종목명</th>\n",
       "      <th>시가</th>\n",
       "      <th>종가</th>\n",
       "      <th>변동폭</th>\n",
       "      <th>등락률</th>\n",
       "      <th>거래량</th>\n",
       "      <th>거래대금</th>\n",
       "    </tr>\n",
       "    <tr>\n",
       "      <th>티커</th>\n",
       "      <th></th>\n",
       "      <th></th>\n",
       "      <th></th>\n",
       "      <th></th>\n",
       "      <th></th>\n",
       "      <th></th>\n",
       "      <th></th>\n",
       "    </tr>\n",
       "  </thead>\n",
       "  <tbody>\n",
       "    <tr>\n",
       "      <th>060310</th>\n",
       "      <td>3S</td>\n",
       "      <td>2070</td>\n",
       "      <td>2240</td>\n",
       "      <td>170</td>\n",
       "      <td>8.21</td>\n",
       "      <td>7077774</td>\n",
       "      <td>16323187095</td>\n",
       "    </tr>\n",
       "    <tr>\n",
       "      <th>054620</th>\n",
       "      <td>APS홀딩스</td>\n",
       "      <td>13000</td>\n",
       "      <td>12250</td>\n",
       "      <td>-750</td>\n",
       "      <td>-5.77</td>\n",
       "      <td>3463195</td>\n",
       "      <td>49203393930</td>\n",
       "    </tr>\n",
       "    <tr>\n",
       "      <th>265520</th>\n",
       "      <td>AP시스템</td>\n",
       "      <td>20600</td>\n",
       "      <td>21100</td>\n",
       "      <td>500</td>\n",
       "      <td>2.43</td>\n",
       "      <td>3677395</td>\n",
       "      <td>80965143650</td>\n",
       "    </tr>\n",
       "    <tr>\n",
       "      <th>211270</th>\n",
       "      <td>AP위성</td>\n",
       "      <td>22500</td>\n",
       "      <td>17880</td>\n",
       "      <td>-4620</td>\n",
       "      <td>-20.53</td>\n",
       "      <td>32559029</td>\n",
       "      <td>738123564620</td>\n",
       "    </tr>\n",
       "    <tr>\n",
       "      <th>126600</th>\n",
       "      <td>BGF에코머티리얼즈</td>\n",
       "      <td>5260</td>\n",
       "      <td>8110</td>\n",
       "      <td>2850</td>\n",
       "      <td>54.18</td>\n",
       "      <td>64047922</td>\n",
       "      <td>517891088990</td>\n",
       "    </tr>\n",
       "  </tbody>\n",
       "</table>\n",
       "</div>"
      ],
      "text/plain": [
       "               종목명     시가     종가   변동폭    등락률       거래량          거래대금\n",
       "티커                                                                   \n",
       "060310          3S   2070   2240   170   8.21   7077774   16323187095\n",
       "054620      APS홀딩스  13000  12250  -750  -5.77   3463195   49203393930\n",
       "265520       AP시스템  20600  21100   500   2.43   3677395   80965143650\n",
       "211270        AP위성  22500  17880 -4620 -20.53  32559029  738123564620\n",
       "126600  BGF에코머티리얼즈   5260   8110  2850  54.18  64047922  517891088990"
      ]
     },
     "execution_count": 6,
     "metadata": {},
     "output_type": "execute_result"
    }
   ],
   "source": [
    "kosdaq = stock.get_market_price_change(\"20230324\", '20230423', market=\"KOSDAQ\")\n",
    "kosdaq.head()"
   ]
  },
  {
   "cell_type": "code",
   "execution_count": 7,
   "metadata": {},
   "outputs": [],
   "source": [
    "profit = kosdaq['등락률'].values"
   ]
  },
  {
   "cell_type": "code",
   "execution_count": 8,
   "metadata": {},
   "outputs": [
    {
     "data": {
      "text/plain": [
       "Index(['종목명', '시가', '종가', '변동폭', '등락률', '거래량', '거래대금'], dtype='object')"
      ]
     },
     "execution_count": 8,
     "metadata": {},
     "output_type": "execute_result"
    }
   ],
   "source": [
    "kosdaq.columns"
   ]
  },
  {
   "cell_type": "code",
   "execution_count": 9,
   "metadata": {},
   "outputs": [],
   "source": [
    "import numpy as np"
   ]
  },
  {
   "cell_type": "code",
   "execution_count": 10,
   "metadata": {},
   "outputs": [
    {
     "data": {
      "text/plain": [
       "array([1385, 1364, 1255,  459,  904,  635, 1136, 1176, 1457, 1330, 1532,\n",
       "        599, 1227, 1549, 1139,  630, 1112,  542,  858,  765])"
      ]
     },
     "execution_count": 10,
     "metadata": {},
     "output_type": "execute_result"
    }
   ],
   "source": [
    "np.argsort(profit)[-20:]"
   ]
  },
  {
   "cell_type": "code",
   "execution_count": 11,
   "metadata": {},
   "outputs": [
    {
     "data": {
      "text/html": [
       "<div>\n",
       "<style scoped>\n",
       "    .dataframe tbody tr th:only-of-type {\n",
       "        vertical-align: middle;\n",
       "    }\n",
       "\n",
       "    .dataframe tbody tr th {\n",
       "        vertical-align: top;\n",
       "    }\n",
       "\n",
       "    .dataframe thead th {\n",
       "        text-align: right;\n",
       "    }\n",
       "</style>\n",
       "<table border=\"1\" class=\"dataframe\">\n",
       "  <thead>\n",
       "    <tr style=\"text-align: right;\">\n",
       "      <th></th>\n",
       "      <th>종목명</th>\n",
       "      <th>시가</th>\n",
       "      <th>종가</th>\n",
       "      <th>변동폭</th>\n",
       "      <th>등락률</th>\n",
       "      <th>거래량</th>\n",
       "      <th>거래대금</th>\n",
       "    </tr>\n",
       "    <tr>\n",
       "      <th>티커</th>\n",
       "      <th></th>\n",
       "      <th></th>\n",
       "      <th></th>\n",
       "      <th></th>\n",
       "      <th></th>\n",
       "      <th></th>\n",
       "      <th></th>\n",
       "    </tr>\n",
       "  </thead>\n",
       "  <tbody>\n",
       "    <tr>\n",
       "      <th>073640</th>\n",
       "      <td>테라사이언스</td>\n",
       "      <td>2255</td>\n",
       "      <td>4450</td>\n",
       "      <td>2195</td>\n",
       "      <td>97.34</td>\n",
       "      <td>125705373</td>\n",
       "      <td>430100233895</td>\n",
       "    </tr>\n",
       "    <tr>\n",
       "      <th>900250</th>\n",
       "      <td>크리스탈신소재</td>\n",
       "      <td>866</td>\n",
       "      <td>1760</td>\n",
       "      <td>894</td>\n",
       "      <td>103.23</td>\n",
       "      <td>395689210</td>\n",
       "      <td>615740346085</td>\n",
       "    </tr>\n",
       "    <tr>\n",
       "      <th>363250</th>\n",
       "      <td>진시스템</td>\n",
       "      <td>7400</td>\n",
       "      <td>15140</td>\n",
       "      <td>7740</td>\n",
       "      <td>104.59</td>\n",
       "      <td>10579329</td>\n",
       "      <td>141796927480</td>\n",
       "    </tr>\n",
       "    <tr>\n",
       "      <th>206400</th>\n",
       "      <td>베노홀딩스</td>\n",
       "      <td>2710</td>\n",
       "      <td>5640</td>\n",
       "      <td>2930</td>\n",
       "      <td>108.12</td>\n",
       "      <td>13965247</td>\n",
       "      <td>51901195025</td>\n",
       "    </tr>\n",
       "    <tr>\n",
       "      <th>227950</th>\n",
       "      <td>엔투텍</td>\n",
       "      <td>718</td>\n",
       "      <td>1534</td>\n",
       "      <td>816</td>\n",
       "      <td>113.65</td>\n",
       "      <td>304040093</td>\n",
       "      <td>464130554007</td>\n",
       "    </tr>\n",
       "  </tbody>\n",
       "</table>\n",
       "</div>"
      ],
      "text/plain": [
       "            종목명    시가     종가   변동폭     등락률        거래량          거래대금\n",
       "티커                                                                 \n",
       "073640   테라사이언스  2255   4450  2195   97.34  125705373  430100233895\n",
       "900250  크리스탈신소재   866   1760   894  103.23  395689210  615740346085\n",
       "363250     진시스템  7400  15140  7740  104.59   10579329  141796927480\n",
       "206400    베노홀딩스  2710   5640  2930  108.12   13965247   51901195025\n",
       "227950      엔투텍   718   1534   816  113.65  304040093  464130554007"
      ]
     },
     "execution_count": 11,
     "metadata": {},
     "output_type": "execute_result"
    }
   ],
   "source": [
    "top = kosdaq.iloc[np.argsort(profit)[-20:]]\n",
    "top.head()"
   ]
  },
  {
   "cell_type": "code",
   "execution_count": 14,
   "metadata": {},
   "outputs": [],
   "source": [
    "top.reset_index(inplace=True)"
   ]
  },
  {
   "cell_type": "code",
   "execution_count": 17,
   "metadata": {},
   "outputs": [
    {
     "data": {
      "text/plain": [
       "['073640',\n",
       " '900250',\n",
       " '363250',\n",
       " '206400',\n",
       " '227950',\n",
       " '033790',\n",
       " '096040',\n",
       " '234920',\n",
       " '022100',\n",
       " '082660',\n",
       " '106080',\n",
       " '222810',\n",
       " '051980',\n",
       " '101680',\n",
       " '024810',\n",
       " '317770',\n",
       " '131400',\n",
       " '101000',\n",
       " '109960',\n",
       " '096610']"
      ]
     },
     "execution_count": 17,
     "metadata": {},
     "output_type": "execute_result"
    }
   ],
   "source": [
    "tickers = list(top['티커'])\n",
    "tickers"
   ]
  },
  {
   "cell_type": "code",
   "execution_count": 18,
   "metadata": {},
   "outputs": [],
   "source": [
    "from kyu_stocks import *"
   ]
  },
  {
   "cell_type": "code",
   "execution_count": null,
   "metadata": {},
   "outputs": [],
   "source": [
    "for ticker in tickers:\n",
    "    get_52price(ticker, start_date, end_date)"
   ]
  }
 ],
 "metadata": {
  "kernelspec": {
   "display_name": "Python 3 (ipykernel)",
   "language": "python",
   "name": "python3"
  },
  "language_info": {
   "codemirror_mode": {
    "name": "ipython",
    "version": 3
   },
   "file_extension": ".py",
   "mimetype": "text/x-python",
   "name": "python",
   "nbconvert_exporter": "python",
   "pygments_lexer": "ipython3",
   "version": "3.9.1"
  }
 },
 "nbformat": 4,
 "nbformat_minor": 4
}
